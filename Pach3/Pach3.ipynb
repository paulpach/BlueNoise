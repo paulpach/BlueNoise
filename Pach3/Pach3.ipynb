{
 "cells": [
  {
   "cell_type": "code",
   "execution_count": 14,
   "source": [
    "import matplotlib.pyplot as plt\n",
    "plt.style.use('seaborn-whitegrid')\n",
    "import numpy as np\n",
    "import math"
   ],
   "outputs": [],
   "metadata": {}
  },
  {
   "cell_type": "markdown",
   "source": [
    "# Load data"
   ],
   "metadata": {}
  },
  {
   "cell_type": "code",
   "execution_count": 1,
   "source": [
    "data = np.genfromtxt('pach3.csv',delimiter=',')\n",
    "\n",
    "cells = 30\n",
    "bits = 8\n",
    "\n",
    "f = 1 << bits\n",
    "s = cells * f\n",
    "radius = f / 2 \n",
    "\n",
    "fig, ax = plt.subplots()\n",
    "fig.set_size_inches(8,8)\n",
    "\n",
    "#ax = \n",
    "ax.set_yticks(np.arange(0,s,f), minor=False)\n",
    "ax.set_xticks(np.arange(0,s,f), minor=False)\n",
    "ax.set_yticklabels([])\n",
    "ax.set_xticklabels([])\n",
    "ax.set_xlim(0, s)\n",
    "ax.set_ylim(0, s)\n",
    "\n",
    "points_whole_ax = 8 * 0.8 * 72    # 1 point = dpi / 72 pixels\n",
    "\n",
    "size = 2 * radius / s * points_whole_ax\n",
    "size = 3\n",
    "\n",
    "arr = np.array(data)\n",
    "x = arr[:,0]\n",
    "y = arr[:,1]\n",
    "\n",
    "plt.axis('off')\n",
    "plt.scatter(x, y, s=size * size, alpha=0.6)\n",
    "\n",
    "plt.show()\n",
    "\n",
    "fig1, ax1 = plt.subplots()\n",
    "\n",
    "labels = 'Covered', 'Free'\n",
    "coveredArea = len(data) * math.pi * radius * radius;\n",
    "coverage = coveredArea /  (s * s)\n",
    "\n",
    "sizes = [coverage , 1 - coverage ]\n",
    "explode = (0.1, 0)  # only \"explode\" the 2nd slice (i.e. 'Hogs')\n",
    "\n",
    "ax1.pie(sizes, explode=explode, labels=labels, autopct='%1.1f%%',\n",
    "        shadow=True, startangle=90)\n",
    "ax1.axis('equal')  # Equal aspect ratio ensures that pie is drawn as a circle.\n",
    "plt.show()"
   ],
   "outputs": [
    {
     "output_type": "error",
     "ename": "NameError",
     "evalue": "name 'np' is not defined",
     "traceback": [
      "\u001b[0;31m---------------------------------------------------------------------------\u001b[0m",
      "\u001b[0;31mNameError\u001b[0m                                 Traceback (most recent call last)",
      "\u001b[0;32m<ipython-input-1-a694e04135b8>\u001b[0m in \u001b[0;36m<module>\u001b[0;34m\u001b[0m\n\u001b[0;32m----> 1\u001b[0;31m \u001b[0mdata\u001b[0m \u001b[0;34m=\u001b[0m \u001b[0mnp\u001b[0m\u001b[0;34m.\u001b[0m\u001b[0mgenfromtxt\u001b[0m\u001b[0;34m(\u001b[0m\u001b[0;34m'pach2.csv'\u001b[0m\u001b[0;34m,\u001b[0m\u001b[0mdelimiter\u001b[0m\u001b[0;34m=\u001b[0m\u001b[0;34m','\u001b[0m\u001b[0;34m)\u001b[0m\u001b[0;34m\u001b[0m\u001b[0;34m\u001b[0m\u001b[0m\n\u001b[0m\u001b[1;32m      2\u001b[0m \u001b[0;34m\u001b[0m\u001b[0m\n\u001b[1;32m      3\u001b[0m \u001b[0mcells\u001b[0m \u001b[0;34m=\u001b[0m \u001b[0;36m30\u001b[0m\u001b[0;34m\u001b[0m\u001b[0;34m\u001b[0m\u001b[0m\n\u001b[1;32m      4\u001b[0m \u001b[0mbits\u001b[0m \u001b[0;34m=\u001b[0m \u001b[0;36m8\u001b[0m\u001b[0;34m\u001b[0m\u001b[0;34m\u001b[0m\u001b[0m\n\u001b[1;32m      5\u001b[0m \u001b[0;34m\u001b[0m\u001b[0m\n",
      "\u001b[0;31mNameError\u001b[0m: name 'np' is not defined"
     ]
    }
   ],
   "metadata": {}
  }
 ],
 "metadata": {
  "orig_nbformat": 4,
  "language_info": {
   "name": "python",
   "version": "3.8.8",
   "mimetype": "text/x-python",
   "codemirror_mode": {
    "name": "ipython",
    "version": 3
   },
   "pygments_lexer": "ipython3",
   "nbconvert_exporter": "python",
   "file_extension": ".py"
  },
  "kernelspec": {
   "name": "python3",
   "display_name": "Python 3.8.8 64-bit ('base': conda)"
  },
  "interpreter": {
   "hash": "3ae24238657bddee9b3b1a806aa004095423466dafffdbd78966e5846b2c239c"
  }
 },
 "nbformat": 4,
 "nbformat_minor": 2
}