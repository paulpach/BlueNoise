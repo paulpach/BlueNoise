{
 "cells": [
  {
   "cell_type": "code",
   "execution_count": 1,
   "metadata": {},
   "outputs": [],
   "source": [
    "import matplotlib.pyplot as plt\n",
    "plt.style.use('seaborn-whitegrid')\n",
    "import numpy as np\n",
    "import math"
   ]
  },
  {
   "cell_type": "markdown",
   "metadata": {},
   "source": [
    "# Load data"
   ]
  },
  {
   "cell_type": "code",
   "execution_count": 2,
   "metadata": {},
   "outputs": [
    {
     "data": {
      "image/png": "[encoded data removed]",
      "text/plain": [
       "<Figure size 576x576 with 1 Axes>"
      ]
     },
     "metadata": {},
     "output_type": "display_data"
    }
   ],
   "source": [
    "data = np.genfromtxt('pach5.csv',delimiter=',')\n",
    "cells = 30\n",
    "bits = 8\n",
    "cellSize = 1 << bits\n",
    "radius = cellSize / 2 \n",
    "show_grid = False\n",
    "\n",
    "fig_size_inch = 8\n",
    "fig_ppi = 72\n",
    "\n",
    "mapSize = cells * cellSize\n",
    "fig, ax = plt.subplots()\n",
    "fig.set_size_inches(fig_size_inch,fig_size_inch)\n",
    "\n",
    "#ax = \n",
    "#ax.set_yticklabels(np.arange(0, cells))\n",
    "#ax.set_xticklabels(np.arange(0, cells))\n",
    "ax.set_yticklabels([])\n",
    "ax.set_xticklabels([])\n",
    "ax.set_xlim(0, mapSize)\n",
    "ax.set_ylim(0, mapSize)\n",
    "\n",
    "points_whole_ax = 8 * 0.76 * 72    # 1 point = dpi / 72 pixels the 0.76 is PDOOMA\n",
    "\n",
    "size = 2 * radius / mapSize * points_whole_ax\n",
    "#size = 3\n",
    "\n",
    "arr = np.array(data)\n",
    "x = arr[:,0]\n",
    "y = arr[:,1]\n",
    "\n",
    "if (show_grid):\n",
    "    ax.set_yticks(np.arange(0,mapSize,cellSize), minor=False)\n",
    "    ax.set_xticks(np.arange(0,mapSize,cellSize), minor=False)\n",
    "    yticks, _ = plt.yticks()\n",
    "    for y0, y1 in zip(yticks[::2], yticks[1::2]):\n",
    "        plt.axhspan(y0, y1, color='black', alpha=0.1, zorder=0)\n",
    "    xticks, _ = plt.xticks()\n",
    "    for x0, x1 in zip(xticks[::2], xticks[1::2]):\n",
    "        plt.axvspan(x0, x1, color='black', alpha=0.1, zorder=0)\n",
    "else:\n",
    "    plt.axis('off')\n",
    "\n",
    "plt.scatter(x, y, s=size * size, alpha=0.6, linewidths=0, marker=\"s\")\n",
    "#plt.scatter(x, y, s=10, alpha=0.8, linewidths=0, marker=\"o\")\n",
    "\n",
    "plt.savefig(\"example.svg\", format=\"svg\")\n",
    "plt.show()\n"
   ]
  },
  {
   "cell_type": "code",
   "execution_count": 3,
   "metadata": {},
   "outputs": [
    {
     "data": {
      "image/png": "[encoded data removed]",
      "text/plain": [
       "<Figure size 432x288 with 1 Axes>"
      ]
     },
     "metadata": {},
     "output_type": "display_data"
    }
   ],
   "source": [
    "\n",
    "fig1, ax1 = plt.subplots()\n",
    "\n",
    "labels = 'Covered', 'Free'\n",
    "coveredArea = len(data) * (radius * 2) ** 2;\n",
    "coverage = coveredArea /  (mapSize * mapSize)\n",
    "\n",
    "sizes = [coverage , 1 - coverage ]\n",
    "explode = (0.1, 0)  # only \"explode\" the 2nd slice (i.e. 'Hogs')\n",
    "\n",
    "ax1.pie(sizes, explode=explode, labels=labels, autopct='%1.1f%%',\n",
    "        shadow=True, startangle=90)\n",
    "ax1.axis('equal')  # Equal aspect ratio ensures that pie is drawn as a circle.\n",
    "plt.show()"
   ]
  },
  {
   "cell_type": "code",
   "execution_count": null,
   "metadata": {},
   "outputs": [],
   "source": []
  }
 ],
 "metadata": {
  "interpreter": {
   "hash": "279a77f87b7cd30e04f576c39bcfd783ce27c1b3e8026fc923968c2bf65c6de9"
  },
  "kernelspec": {
   "display_name": "Python 3.8.8 ('base')",
   "language": "python",
   "name": "python3"
  },
  "language_info": {
   "codemirror_mode": {
    "name": "ipython",
    "version": 3
   },
   "file_extension": ".py",
   "mimetype": "text/x-python",
   "name": "python",
   "nbconvert_exporter": "python",
   "pygments_lexer": "ipython3",
   "version": "3.8.8"
  }
 },
 "nbformat": 4,
 "nbformat_minor": 2
}
